{
 "cells": [
  {
   "cell_type": "code",
   "execution_count": 4,
   "metadata": {},
   "outputs": [
    {
     "name": "stdout",
     "output_type": "stream",
     "text": [
      "================       Preference Setup        ================\n",
      "Alpha: 0.01\t Lambda: 0.01\tK: 10\tIteration number: 50\n",
      "================ Start latent factor model fit ================\n",
      "Iteration: 0 \tMean loss of train: 1.18 \tMean loss of validation: 1.44\n",
      "Iteration: 10 \tMean loss of train: 0.76 \tMean loss of validation: 0.96\n",
      "Iteration: 20 \tMean loss of train: 0.64 \tMean loss of validation: 0.98\n",
      "Iteration: 30 \tMean loss of train: 0.58 \tMean loss of validation: 1.01\n",
      "Iteration: 40 \tMean loss of train: 0.55 \tMean loss of validation: 1.03\n"
     ]
    },
    {
     "data": {
      "image/png": "[encoded data removed]",
      "text/plain": [
       "<matplotlib.figure.Figure at 0x7f3bc9e1f2d0>"
      ]
     },
     "metadata": {},
     "output_type": "display_data"
    }
   ],
   "source": [
    "import math\n",
    "import numpy as np\n",
    "import matplotlib.pyplot as plt\n",
    "\n",
    "datasets_path = './ml-100k/' \n",
    "USER_NUM = 943      #用户数目\n",
    "ITEM_NUM = 1682     #物品数目\n",
    "ALPHA = 0.01        #学习率\n",
    "LAMBDA = 0.01       #惩罚因子\n",
    "K = 10              #潜在特征数\n",
    "ITER_NUM = 50       #迭代训练次数\n",
    "\n",
    "#    draw the result\n",
    "def draw_plot(Loss_train, Loss_validation):\n",
    "    plt.plot(Loss_train, label=\"Loss_train\")\n",
    "    plt.plot(Loss_validation, label=\"Loss_validation\")\n",
    "    plt.legend()\n",
    "    plt.ylim(0.4, 1.6)\n",
    "    plt.xlabel(\"Iteration\")\n",
    "    plt.ylabel(\"L2 Loss\")\n",
    "    plt.title(\"Latent Factor Model\")\n",
    "    plt.show()\n",
    "\n",
    "\n",
    "def lmf(R_trian, R_test):\n",
    "    P = np.random.rand(USER_NUM, K)    #P[i][k]: 用户i和隐因子r的相关性\n",
    "    Q = np.random.rand(ITEM_NUM, K)    #Q[j][k]: 商品j和隐因子r的相关性\n",
    "\n",
    "    loss_his_train = []    #储存loss记录\n",
    "    loss_his_test = []\n",
    "\n",
    "    for iter in range(ITER_NUM):\n",
    "        loss_train = []\n",
    "        loss_test = []\n",
    "        for i in range(USER_NUM):\n",
    "            for j in range(ITEM_NUM):\n",
    "\n",
    "                if math.fabs(R_trian[i][j]) > 1e-4:   #只训练非零元素\n",
    "                    err_train_cur = R_trian[i][j] - np.dot(P[i], Q[j])   #当前误差\n",
    "                    loss_train.append(err_train_cur ** 2)\n",
    "                    # 梯度下降\n",
    "                    for k in range(K):\n",
    "                       # 计算梯度\n",
    "                        gu = err_train_cur * Q[j][k] - LAMBDA * P[i][k]\n",
    "                        gv = err_train_cur * P[i][k] - LAMBDA * Q[j][k]\n",
    "                        P[i][k] += ALPHA * gu\n",
    "                        Q[j][k] += ALPHA * gv\n",
    "\n",
    "                if math.fabs(R_test[i][j]) > 1e-4:   #只验证非零元素\n",
    "                    err_test_cur = R_test[i][j] - np.dot(P[i], Q[j])\n",
    "                    loss_test.append(err_test_cur ** 2)\n",
    "\n",
    "        loss_his_train.append(np.mean(loss_train))\n",
    "        loss_his_test.append(np.mean(loss_test))\n",
    "        if iter % 10 == 0:\n",
    "            print(\"Iteration: %d \\tMean loss of train: %.2f \\tMean loss of validation: %.2f\"%\n",
    "                (iter, np.mean(loss_train), np.mean(loss_test)))\n",
    "    return loss_his_train, loss_his_test\n",
    "\n",
    "def load_ml_data(filename):\n",
    "    #填充数据\n",
    "    data = np.zeros((USER_NUM, ITEM_NUM))\n",
    "    for line in open(datasets_path + filename, 'r'):\n",
    "        (userid, movieid, rating, ts) = line.split('\\t')\n",
    "        (userid, movieid, rating) = map(int, (userid, movieid, rating))\n",
    "        data[userid - 1, movieid - 1] = float(rating)\n",
    "    return data           \n",
    "\n",
    "if __name__==\"__main__\":\n",
    "    train_data = load_ml_data('u1.base')\n",
    "    test_data = load_ml_data('u1.test')\n",
    "    print(\"================       Preference Setup        ================\")\n",
    "    print(\"Alpha: %.2f\\t Lambda: %.2f\\tK: %d\\tIteration number: %d\"%(ALPHA, LAMBDA, K, ITER_NUM))\n",
    "    print(\"================ Start latent factor model fit ================\")\n",
    "    loss_his_train, loss_his_test = lmf(train_data, test_data)\n",
    "    draw_plot(loss_his_train, loss_his_test)"
   ]
  },
  {
   "cell_type": "code",
   "execution_count": null,
   "metadata": {
    "collapsed": true
   },
   "outputs": [],
   "source": []
  }
 ],
 "metadata": {
  "kernelspec": {
   "display_name": "Python 2",
   "language": "python",
   "name": "python2"
  },
  "language_info": {
   "codemirror_mode": {
    "name": "ipython",
    "version": 2
   },
   "file_extension": ".py",
   "mimetype": "text/x-python",
   "name": "python",
   "nbconvert_exporter": "python",
   "pygments_lexer": "ipython2",
   "version": "2.7.12"
  }
 },
 "nbformat": 4,
 "nbformat_minor": 2
}
